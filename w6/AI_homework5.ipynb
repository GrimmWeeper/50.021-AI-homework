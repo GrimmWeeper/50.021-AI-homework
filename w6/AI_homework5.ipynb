{
  "nbformat": 4,
  "nbformat_minor": 0,
  "metadata": {
    "colab": {
      "name": "Copy of AI homework PT2 - neural networks",
      "provenance": [],
      "collapsed_sections": []
    },
    "kernelspec": {
      "name": "python3",
      "display_name": "Python 3"
    },
    "accelerator": "GPU"
  },
  "cells": [
    {
      "cell_type": "markdown",
      "metadata": {
        "id": "rUbEmuvZJxlI"
      },
      "source": [
        "# PyTorch - homework 2: neural networks\n",
        "\n",
        "-- Prof. Dorien Herremans"
      ]
    },
    {
      "cell_type": "markdown",
      "metadata": {
        "id": "efS07mO7J6AR"
      },
      "source": [
        "Please run the whole notebook with your code and submit the `.ipynb` file on eDimension that includes your answers [so after you run it]. "
      ]
    },
    {
      "cell_type": "code",
      "metadata": {
        "id": "mJpzFaX0J6Zz",
        "colab": {
          "base_uri": "https://localhost:8080/"
        },
        "outputId": "cc59ba11-789d-4388-81ad-157b83865ed6"
      },
      "source": [
        "from termcolor import colored\n",
        "\n",
        "student_name=\"Kuah Wee Ping\"\n",
        "student_number=\"1003345\"\n",
        "\n",
        "print(colored(\"Homework by \"  + student_name + ', number: ' + student_number,'green'))"
      ],
      "execution_count": 1,
      "outputs": [
        {
          "output_type": "stream",
          "text": [
            "\u001b[32mHomework by Kuah Wee Ping, number: 1003345\u001b[0m\n"
          ],
          "name": "stdout"
        }
      ]
    },
    {
      "cell_type": "markdown",
      "metadata": {
        "id": "-xDkwBg8LKQ_"
      },
      "source": [
        " ## Question 1 -- XOR neural network [3pts]\n",
        "\n",
        "a) Train an (at least) 2-layer neural network that can solve the XOR problem. Hint: be sure to check both this week and last week's lab. \n",
        "\n",
        "b) Check the predictions resulting from your model in the second code box below.\n"
      ]
    },
    {
      "cell_type": "code",
      "metadata": {
        "id": "L7oKZXlU3_gO"
      },
      "source": [
        "import torch\n",
        "import numpy as np\n",
        "import pandas as pd\n",
        "\n",
        "import torch.nn as nn\n",
        "import torch.nn.functional as F\n",
        "import torch.optim as optim\n",
        "from torch.autograd import Variable"
      ],
      "execution_count": 2,
      "outputs": []
    },
    {
      "cell_type": "code",
      "metadata": {
        "id": "BINvhm-PLKak",
        "colab": {
          "base_uri": "https://localhost:8080/"
        },
        "outputId": "e4d83b33-ea84-4d61-c4ba-5dd19f6877aa"
      },
      "source": [
        "# load your data\n",
        "input_x = torch.Tensor([[0,0],[0,1], [1,0], [1,1]])\n",
        "input_y = torch.Tensor([0,1,1,0]).view(-1,1)\n",
        "\n",
        "test_x = torch.Tensor([[0,0],[0,1],[1,1],[1,0]])\n",
        "test_y = torch.Tensor([0,1,0,1]).view(-1,1)\n",
        "\n",
        "\n",
        "class FeedForwardNN(nn.Module):\n",
        "    def __init__(self, input_size, num_classes, num_hidden, hidden_dim, dropout, activation):\n",
        "      super(FeedForwardNN, self).__init__()\n",
        "      \n",
        "      assert num_hidden > 0\n",
        "      self.hidden_layers = nn.ModuleList([])\n",
        "      self.hidden_layers.append(nn.Linear(input_size, hidden_dim))\n",
        "\n",
        "      for i in range(num_hidden - 1):\n",
        "        self.hidden_layers.append(nn.Linear(hidden_dim, hidden_dim))\n",
        "      \n",
        "      self.dropout = nn.Dropout(dropout)\n",
        "      self.output_projection = nn.Linear(hidden_dim, num_classes)\n",
        "      self.nonlinearity = activation\n",
        "\n",
        "    def forward(self, x):\n",
        "      for hidden_layer in self.hidden_layers:\n",
        "        x = hidden_layer(x)\n",
        "        x = self.dropout(x)\n",
        "        x = self.nonlinearity(x)\n",
        "    \n",
        "      out = self.output_projection(x) \n",
        "      out_distribution = F.sigmoid(out)\n",
        "      \n",
        "      return out_distribution\n",
        "\n",
        "# # name your model xor\n",
        "def xor():\n",
        "  input_size = 2\n",
        "  num_classes = 1\n",
        "  num_hidden = 3\n",
        "  hidden_dim = 50\n",
        "  dropout = 0.1\n",
        "  activation = nn.Sigmoid()\n",
        "\n",
        "  return FeedForwardNN(input_size, num_classes, num_hidden, hidden_dim, dropout, activation)\n",
        "  \n",
        "\n",
        "# define your model loss function, optimizer, etc. \n",
        "xor_clf = xor()\n",
        "print(xor_clf)\n",
        "\n",
        "xor_loss = nn.MSELoss()\n",
        "xor_optim = optim.SGD(xor_clf.parameters(), lr=0.1, momentum=0.9)\n",
        "\n",
        "\n",
        "# train the model\n",
        "num_epochs = 10001\n",
        "\n",
        "for epoch in range(num_epochs):\n",
        "  for (x, y) in zip(input_x, input_y):\n",
        "    reshaped_x = x.view(-1, 2)\n",
        "    reshaped_x = Variable(reshaped_x)\n",
        "    target = Variable(y)\n",
        "\n",
        "    predicted = xor_clf(reshaped_x)\n",
        "    target = target.unsqueeze(1)\n",
        "    batch_loss = xor_loss(predicted, target)\n",
        "    xor_optim.zero_grad()\n",
        "    batch_loss.backward()\n",
        "    xor_optim.step()\n",
        "  \n",
        "  if epoch % 500 == 0:\n",
        "    print (\"Epoch: {0}, Loss: {1}, \".format(epoch, batch_loss.data))\n",
        "\n",
        "\n"
      ],
      "execution_count": null,
      "outputs": [
        {
          "output_type": "stream",
          "text": [
            "FeedForwardNN(\n",
            "  (hidden_layers): ModuleList(\n",
            "    (0): Linear(in_features=2, out_features=50, bias=True)\n",
            "    (1): Linear(in_features=50, out_features=50, bias=True)\n",
            "    (2): Linear(in_features=50, out_features=50, bias=True)\n",
            "  )\n",
            "  (dropout): Dropout(p=0.1, inplace=False)\n",
            "  (output_projection): Linear(in_features=50, out_features=1, bias=True)\n",
            "  (nonlinearity): Sigmoid()\n",
            ")\n",
            "Epoch: 0, Loss: 0.35627806186676025, \n"
          ],
          "name": "stdout"
        },
        {
          "output_type": "stream",
          "text": [
            "/usr/local/lib/python3.7/dist-packages/torch/nn/functional.py:1805: UserWarning: nn.functional.sigmoid is deprecated. Use torch.sigmoid instead.\n",
            "  warnings.warn(\"nn.functional.sigmoid is deprecated. Use torch.sigmoid instead.\")\n"
          ],
          "name": "stderr"
        },
        {
          "output_type": "stream",
          "text": [
            "Epoch: 500, Loss: 0.4106728434562683, \n",
            "Epoch: 1000, Loss: 0.14450834691524506, \n",
            "Epoch: 1500, Loss: 0.178245410323143, \n",
            "Epoch: 2000, Loss: 0.5057858824729919, \n",
            "Epoch: 2500, Loss: 0.40044623613357544, \n",
            "Epoch: 3000, Loss: 0.3650476336479187, \n",
            "Epoch: 3500, Loss: 0.2890944182872772, \n",
            "Epoch: 4000, Loss: 0.006477650720626116, \n",
            "Epoch: 4500, Loss: 3.986217416240834e-05, \n",
            "Epoch: 5000, Loss: 5.213099484535633e-06, \n",
            "Epoch: 5500, Loss: 1.8647305068952846e-06, \n",
            "Epoch: 6000, Loss: 3.134517100988887e-05, \n",
            "Epoch: 6500, Loss: 5.4220777201408055e-06, \n",
            "Epoch: 7000, Loss: 0.0001004817895591259, \n",
            "Epoch: 7500, Loss: 3.806601114320074e-07, \n",
            "Epoch: 8000, Loss: 1.8772070689010434e-06, \n",
            "Epoch: 8500, Loss: 2.9678182045245194e-07, \n",
            "Epoch: 9000, Loss: 2.4729533834033646e-05, \n",
            "Epoch: 9500, Loss: 1.6062893337220885e-05, \n",
            "Epoch: 10000, Loss: 9.863483683147933e-06, \n"
          ],
          "name": "stdout"
        }
      ]
    },
    {
      "cell_type": "code",
      "metadata": {
        "id": "51Ra1T6n2r_R",
        "colab": {
          "base_uri": "https://localhost:8080/"
        },
        "outputId": "aa68a83b-62a6-4d7e-c341-91c7c6304e4d"
      },
      "source": [
        "# test your model using the following functions (make sure the output is printed and saved when you submit this notebook):\n",
        "# depending on how you defined your network you may need to slightly tweek the below prediction function\n",
        "\n",
        "test = [[0,0],[0,1],[1,1],[1,0]]\n",
        "\n",
        "for trial in test: \n",
        "  Xtest = torch.Tensor(trial)\n",
        "  y_hat = xor_clf(Xtest)\n",
        "\n",
        "  if y_hat > 0.5:\n",
        "    prediction = 1\n",
        "  else: \n",
        "    prediction = 0\n",
        "\n",
        "  print(\"{0} xor {1} = {2}\".format(int(Xtest[0]), int(Xtest[1]), prediction))"
      ],
      "execution_count": null,
      "outputs": [
        {
          "output_type": "stream",
          "text": [
            "0 xor 0 = 0\n",
            "0 xor 1 = 1\n",
            "1 xor 1 = 0\n",
            "1 xor 0 = 1\n"
          ],
          "name": "stdout"
        },
        {
          "output_type": "stream",
          "text": [
            "/usr/local/lib/python3.7/dist-packages/torch/nn/functional.py:1805: UserWarning: nn.functional.sigmoid is deprecated. Use torch.sigmoid instead.\n",
            "  warnings.warn(\"nn.functional.sigmoid is deprecated. Use torch.sigmoid instead.\")\n"
          ],
          "name": "stderr"
        }
      ]
    },
    {
      "cell_type": "markdown",
      "metadata": {
        "id": "pqIqD5ZzyUOW"
      },
      "source": [
        "## Question 2  [2pts]\n",
        "\n",
        "Imagine a neural network model for a multilabel classification task. \n",
        "\n",
        "a) Which loss function should you use?\n",
        "\n",
        "b) The resulting trained modal has a high variance error. Give 4 possible solutions to improve the model. \n"
      ]
    },
    {
      "cell_type": "markdown",
      "metadata": {
        "id": "hzye9G18PQ0c"
      },
      "source": [
        "```\n",
        "[your answer here, no coding required]\n",
        "\n",
        "* answer A\n",
        "We can use Cross-Entropy Loss.\n",
        "* answer B\n",
        "  - 1 Use a different optimiser like Adam instead of SGD\n",
        "  - 2 Use a dropout (nn.Dropout(0.5))\n",
        "  - 3 Stop the training earlier before overfitting (lesser epoch)\n",
        "  - 4 Augment the training data such as rotating an image for image data set\n",
        "\n",
        "```\n"
      ]
    },
    {
      "cell_type": "markdown",
      "metadata": {
        "id": "FcceOSnjjSHf"
      },
      "source": [
        "## Question 3 - Improve hit classification [5pts]\n",
        "\n",
        "Remember the hit predicton dataset from last week? \n",
        "\n",
        "a) Improve the model using a multiplayer perceptron. \n",
        "\n",
        "b) Make sure to run your models on the GPU. \n",
        "\n",
        "c) Tweek the hyperparameters such as number of nodes or layers, or other. Show two possible configurations and explain which works better and very briefly explain why this may be the case. \n",
        "\n",
        "\n"
      ]
    },
    {
      "cell_type": "code",
      "metadata": {
        "id": "j8QOylWD-SOy"
      },
      "source": [
        "class FeedForwardNN(nn.Module):\n",
        "    def __init__(self, input_size, num_classes, num_hidden, hidden_dim, dropout, activation):\n",
        "      super(FeedForwardNN, self).__init__()\n",
        "      \n",
        "      assert num_hidden > 0\n",
        "      self.hidden_layers = nn.ModuleList([])\n",
        "      self.hidden_layers.append(nn.Linear(input_size, hidden_dim))\n",
        "\n",
        "      for i in range(num_hidden - 1):\n",
        "        self.hidden_layers.append(nn.Linear(hidden_dim, hidden_dim))\n",
        "      \n",
        "      self.dropout = nn.Dropout(dropout)\n",
        "      self.output_projection = nn.Linear(hidden_dim, num_classes)\n",
        "      self.nonlinearity = activation\n",
        "\n",
        "    def forward(self, x):\n",
        "      for hidden_layer in self.hidden_layers:\n",
        "        x = hidden_layer(x)\n",
        "        x = self.dropout(x)\n",
        "        x = self.nonlinearity(x)\n",
        "    \n",
        "      out = self.output_projection(x) \n",
        "      out_distribution = F.sigmoid(out)\n",
        "      \n",
        "      return out_distribution"
      ],
      "execution_count": 13,
      "outputs": []
    },
    {
      "cell_type": "code",
      "metadata": {
        "colab": {
          "base_uri": "https://localhost:8080/"
        },
        "id": "oD72Nzfj_lmA",
        "outputId": "0ea41c1d-a96d-4e97-ce31-758ba4c57cb0"
      },
      "source": [
        "# Prepare data for training\n",
        "\n",
        "# Download training data\n",
        "!wget https://dorax.s3.ap-south-1.amazonaws.com/herremans_hit_1030training.csv -O herremans_hit_1030training.csv\n",
        "\n",
        "# load training data\n",
        "train_data = pd.read_csv('herremans_hit_1030training.csv')\n",
        "\n",
        "train_labels = train_data.iloc[:,-1]\n",
        "train_features = train_data.drop('Topclass1030', axis=1)\n",
        "\n",
        "\n",
        "train_features = torch.Tensor(train_features.values).cuda()\n",
        "train_labels = torch.Tensor(train_labels.values).view(-1,1).cuda()\n",
        "\n",
        "# Get size\n",
        "input_sizes = train_features.shape[1]\n",
        "num_classes = train_labels.shape[1]"
      ],
      "execution_count": 4,
      "outputs": [
        {
          "output_type": "stream",
          "text": [
            "--2021-06-29 17:55:50--  https://dorax.s3.ap-south-1.amazonaws.com/herremans_hit_1030training.csv\n",
            "Resolving dorax.s3.ap-south-1.amazonaws.com (dorax.s3.ap-south-1.amazonaws.com)... 52.219.66.3\n",
            "Connecting to dorax.s3.ap-south-1.amazonaws.com (dorax.s3.ap-south-1.amazonaws.com)|52.219.66.3|:443... connected.\n",
            "HTTP request sent, awaiting response... 200 OK\n",
            "Length: 147372 (144K) [text/csv]\n",
            "Saving to: ‘herremans_hit_1030training.csv’\n",
            "\n",
            "herremans_hit_1030t 100%[===================>] 143.92K   203KB/s    in 0.7s    \n",
            "\n",
            "2021-06-29 17:55:51 (203 KB/s) - ‘herremans_hit_1030training.csv’ saved [147372/147372]\n",
            "\n"
          ],
          "name": "stdout"
        }
      ]
    },
    {
      "cell_type": "code",
      "metadata": {
        "id": "t-jkJDTdjSRX",
        "colab": {
          "base_uri": "https://localhost:8080/"
        },
        "outputId": "a3c513ca-25c3-4bcd-cf14-87563a6c9727"
      },
      "source": [
        "# code your model 1\n",
        "def hitsong1(input_size, num_classes):\n",
        "  num_hidden = 3\n",
        "  hidden_dim = 50\n",
        "  dropout = 0.1\n",
        "  activation = nn.ReLU()\n",
        "  \n",
        "  return FeedForwardNN(input_size, num_classes, num_hidden, hidden_dim, dropout, activation)\n",
        "\n",
        "\n",
        "hitsong1_clf = hitsong1(input_sizes, num_classes).cuda()\n",
        "print(hitsong1_clf)\n",
        "\n",
        "hitsong1_loss = nn.MSELoss()\n",
        "hitsong1_optim = optim.SGD(hitsong1_clf.parameters(), lr=0.001, momentum=0.9)\n",
        "\n",
        "# train the model\n",
        "\n",
        "num_epochs = 101\n",
        "\n",
        "for epoch in range(num_epochs):\n",
        "  for (x, y) in zip(train_features, train_labels):\n",
        "    reshaped_x = x.view(-1, input_sizes)\n",
        "    reshaped_x = Variable(reshaped_x).cuda()\n",
        "    target = Variable(y).cuda()\n",
        "\n",
        "    predicted = hitsong1_clf(reshaped_x)\n",
        "    target = target.unsqueeze(1)\n",
        "    batch_loss = hitsong1_loss(predicted, target)\n",
        "    hitsong1_optim.zero_grad()\n",
        "    batch_loss.backward()\n",
        "    hitsong1_optim.step()\n",
        "  \n",
        "  if epoch % 10 == 0:\n",
        "    print (\"Epoch: {0}, Loss: {1}, \".format(epoch, batch_loss.data))\n",
        "\n",
        "\n",
        "\n"
      ],
      "execution_count": 36,
      "outputs": [
        {
          "output_type": "stream",
          "text": [
            "FeedForwardNN(\n",
            "  (hidden_layers): ModuleList(\n",
            "    (0): Linear(in_features=49, out_features=50, bias=True)\n",
            "    (1): Linear(in_features=50, out_features=50, bias=True)\n",
            "    (2): Linear(in_features=50, out_features=50, bias=True)\n",
            "  )\n",
            "  (dropout): Dropout(p=0.1, inplace=False)\n",
            "  (output_projection): Linear(in_features=50, out_features=1, bias=True)\n",
            "  (nonlinearity): ReLU()\n",
            ")\n"
          ],
          "name": "stdout"
        },
        {
          "output_type": "stream",
          "text": [
            "/usr/local/lib/python3.7/dist-packages/torch/nn/functional.py:1805: UserWarning: nn.functional.sigmoid is deprecated. Use torch.sigmoid instead.\n",
            "  warnings.warn(\"nn.functional.sigmoid is deprecated. Use torch.sigmoid instead.\")\n"
          ],
          "name": "stderr"
        },
        {
          "output_type": "stream",
          "text": [
            "Epoch: 0, Loss: 0.254652738571167, \n",
            "Epoch: 10, Loss: 0.21368280053138733, \n",
            "Epoch: 20, Loss: 0.06645623594522476, \n",
            "Epoch: 30, Loss: 0.04178480803966522, \n",
            "Epoch: 40, Loss: 0.011214429512619972, \n",
            "Epoch: 50, Loss: 0.03416338935494423, \n",
            "Epoch: 60, Loss: 0.1401108056306839, \n",
            "Epoch: 70, Loss: 0.0011592656373977661, \n",
            "Epoch: 80, Loss: 0.09836075454950333, \n",
            "Epoch: 90, Loss: 0.0004204816068522632, \n",
            "Epoch: 100, Loss: 1.1096223033746355e-06, \n"
          ],
          "name": "stdout"
        }
      ]
    },
    {
      "cell_type": "code",
      "metadata": {
        "id": "uxI8rs5Mdlcr",
        "colab": {
          "base_uri": "https://localhost:8080/"
        },
        "outputId": "b1c79097-6e1c-4aa3-81e4-11ecd5867c28"
      },
      "source": [
        "# Download test data\n",
        "!wget https://dorax.s3.ap-south-1.amazonaws.com/herremans_hit_1030test.csv -O herremans_hit_1030test.csv\n",
        "\n",
        "def run_evaluation(my_model):\n",
        "\n",
        "  test = pd.read_csv('herremans_hit_1030test.csv')\n",
        "  labels = test.iloc[:,-1]\n",
        "  test = test.drop('Topclass1030', axis=1)\n",
        "  testdata = torch.Tensor(test.values)\n",
        "  testlabels = torch.Tensor(labels.values).view(-1,1)\n",
        "\n",
        "  TP = 0\n",
        "  TN = 0\n",
        "  FN = 0\n",
        "  FP = 0\n",
        "\n",
        "  for i in range(0, testdata.size()[0]): \n",
        "    # print(testdata[i].size())\n",
        "    Xtest = torch.Tensor(testdata[i]).cuda()\n",
        "    y_hat = my_model(Xtest)\n",
        "    \n",
        "    if y_hat > 0.5:\n",
        "      prediction = 1\n",
        "    else: \n",
        "      prediction = 0\n",
        "\n",
        "    if (prediction == testlabels[i]):\n",
        "      if (prediction == 1):\n",
        "        TP += 1\n",
        "      else: \n",
        "        TN += 1\n",
        "\n",
        "    else:\n",
        "      if (prediction == 1):\n",
        "        FP += 1\n",
        "      else: \n",
        "        FN += 1\n",
        "\n",
        "  print(\"True Positives: {0}, True Negatives: {1}\".format(TP, TN))\n",
        "  print(\"False Positives: {0}, False Negatives: {1}\".format(FP, FN))\n",
        "  rate = TP/(FN+TP)\n",
        "  print(\"Class specific accuracy of correctly predicting a hit song is {0}\".format(rate))"
      ],
      "execution_count": 8,
      "outputs": [
        {
          "output_type": "stream",
          "text": [
            "--2021-06-29 17:56:55--  https://dorax.s3.ap-south-1.amazonaws.com/herremans_hit_1030test.csv\n",
            "Resolving dorax.s3.ap-south-1.amazonaws.com (dorax.s3.ap-south-1.amazonaws.com)... 52.219.62.115\n",
            "Connecting to dorax.s3.ap-south-1.amazonaws.com (dorax.s3.ap-south-1.amazonaws.com)|52.219.62.115|:443... connected.\n",
            "HTTP request sent, awaiting response... 200 OK\n",
            "Length: 36712 (36K) [text/csv]\n",
            "Saving to: ‘herremans_hit_1030test.csv’\n",
            "\n",
            "herremans_hit_1030t 100%[===================>]  35.85K   154KB/s    in 0.2s    \n",
            "\n",
            "2021-06-29 17:56:57 (154 KB/s) - ‘herremans_hit_1030test.csv’ saved [36712/36712]\n",
            "\n"
          ],
          "name": "stdout"
        }
      ]
    },
    {
      "cell_type": "code",
      "metadata": {
        "id": "UIDPTKcFkETc",
        "colab": {
          "base_uri": "https://localhost:8080/"
        },
        "outputId": "547a5dca-d9d5-4f6e-ef30-95813644a648"
      },
      "source": [
        "# evaluate model 1 (called model1 here)\n",
        "\n",
        "run_evaluation(hitsong1_clf)"
      ],
      "execution_count": 37,
      "outputs": [
        {
          "output_type": "stream",
          "text": [
            "True Positives: 37, True Negatives: 19\n",
            "False Positives: 10, False Negatives: 13\n",
            "Class specific accuracy of correctly predicting a hit song is 0.74\n"
          ],
          "name": "stdout"
        },
        {
          "output_type": "stream",
          "text": [
            "/usr/local/lib/python3.7/dist-packages/torch/nn/functional.py:1805: UserWarning: nn.functional.sigmoid is deprecated. Use torch.sigmoid instead.\n",
            "  warnings.warn(\"nn.functional.sigmoid is deprecated. Use torch.sigmoid instead.\")\n"
          ],
          "name": "stderr"
        }
      ]
    },
    {
      "cell_type": "code",
      "metadata": {
        "id": "xghPDDNmkHn2",
        "colab": {
          "base_uri": "https://localhost:8080/"
        },
        "outputId": "43e9af44-e83c-4a4e-e51e-3d30e7185892"
      },
      "source": [
        "# code your model 2\n",
        "\n",
        "def hitsong2(input_size, num_classes):\n",
        "  num_hidden = 3\n",
        "  hidden_dim = 50\n",
        "  dropout = 0.1\n",
        "  activation = nn.Sigmoid()\n",
        "  \n",
        "  return FeedForwardNN(input_size, num_classes, num_hidden, hidden_dim, dropout, activation)\n",
        "\n",
        "\n",
        "hitsong2_clf = hitsong2(input_sizes, num_classes).cuda()\n",
        "print(hitsong2_clf)\n",
        "\n",
        "hitsong2_loss = nn.MSELoss()\n",
        "hitsong2_optim = optim.SGD(hitsong1_clf.parameters(), lr=0.001, momentum=0.9)\n",
        "\n",
        "# train the model\n",
        "\n",
        "num_epochs = 101\n",
        "\n",
        "for epoch in range(num_epochs):\n",
        "  for (x, y) in zip(train_features, train_labels):\n",
        "    reshaped_x = x.view(-1, input_sizes)\n",
        "    reshaped_x = Variable(reshaped_x).cuda()\n",
        "    target = Variable(y).cuda()\n",
        "\n",
        "    predicted = hitsong2_clf(reshaped_x)\n",
        "    target = target.unsqueeze(1)\n",
        "    batch_loss = hitsong2_loss(predicted, target)\n",
        "    hitsong2_optim.zero_grad()\n",
        "    batch_loss.backward()\n",
        "    hitsong2_optim.step()\n",
        "  \n",
        "  if epoch % 10 == 0:\n",
        "    print (\"Epoch: {0}, Loss: {1}, \".format(epoch, batch_loss.data))\n"
      ],
      "execution_count": 32,
      "outputs": [
        {
          "output_type": "stream",
          "text": [
            "FeedForwardNN(\n",
            "  (hidden_layers): ModuleList(\n",
            "    (0): Linear(in_features=49, out_features=50, bias=True)\n",
            "    (1): Linear(in_features=50, out_features=50, bias=True)\n",
            "    (2): Linear(in_features=50, out_features=50, bias=True)\n",
            "  )\n",
            "  (dropout): Dropout(p=0.1, inplace=False)\n",
            "  (output_projection): Linear(in_features=50, out_features=1, bias=True)\n",
            "  (nonlinearity): Sigmoid()\n",
            ")\n"
          ],
          "name": "stdout"
        },
        {
          "output_type": "stream",
          "text": [
            "/usr/local/lib/python3.7/dist-packages/torch/nn/functional.py:1805: UserWarning: nn.functional.sigmoid is deprecated. Use torch.sigmoid instead.\n",
            "  warnings.warn(\"nn.functional.sigmoid is deprecated. Use torch.sigmoid instead.\")\n"
          ],
          "name": "stderr"
        },
        {
          "output_type": "stream",
          "text": [
            "Epoch: 0, Loss: 0.3867832124233246, \n",
            "Epoch: 10, Loss: 0.3813243806362152, \n",
            "Epoch: 20, Loss: 0.3854142725467682, \n",
            "Epoch: 30, Loss: 0.3871181011199951, \n",
            "Epoch: 40, Loss: 0.38897904753685, \n",
            "Epoch: 50, Loss: 0.3781259059906006, \n",
            "Epoch: 60, Loss: 0.3826589584350586, \n",
            "Epoch: 70, Loss: 0.3813149333000183, \n",
            "Epoch: 80, Loss: 0.3901846408843994, \n",
            "Epoch: 90, Loss: 0.37933507561683655, \n",
            "Epoch: 100, Loss: 0.38481128215789795, \n"
          ],
          "name": "stdout"
        }
      ]
    },
    {
      "cell_type": "code",
      "metadata": {
        "id": "wAIifiHJkHyW",
        "colab": {
          "base_uri": "https://localhost:8080/"
        },
        "outputId": "69a625d7-4089-4751-c6a8-c2156a0037cc"
      },
      "source": [
        "# evaluate model 2 (called model2 here)\n",
        "\n",
        "run_evaluation(hitsong2_clf)"
      ],
      "execution_count": 33,
      "outputs": [
        {
          "output_type": "stream",
          "text": [
            "True Positives: 50, True Negatives: 0\n",
            "False Positives: 29, False Negatives: 0\n",
            "Class specific accuracy of correctly predicting a hit song is 1.0\n"
          ],
          "name": "stdout"
        },
        {
          "output_type": "stream",
          "text": [
            "/usr/local/lib/python3.7/dist-packages/torch/nn/functional.py:1805: UserWarning: nn.functional.sigmoid is deprecated. Use torch.sigmoid instead.\n",
            "  warnings.warn(\"nn.functional.sigmoid is deprecated. Use torch.sigmoid instead.\")\n"
          ],
          "name": "stderr"
        }
      ]
    },
    {
      "cell_type": "markdown",
      "metadata": {
        "id": "QPsxbT0KkGs1"
      },
      "source": [
        "Which works better and why do you think this may be (very briefly)? \n"
      ]
    },
    {
      "cell_type": "markdown",
      "metadata": {
        "id": "6GzjI77HkSwH"
      },
      "source": [
        "**[your answer here, also please summarise the differences between your two models]**\n",
        "\n",
        "Model 2 works better (100% accuracy to 74% accuray in model 1 on test set).\n",
        "\n",
        "In model 2, the activation function used Sigmoid as compared to the one used in model 1 which is ReLU. Sigmoid activation function gave a higher accuracy and performed better because it is better than ReLU for binary classification problem (output label is either 0 or 1).\n",
        "\n",
        "The rest of the hyperparameters, loss function, optimiser, etc remains the same for the Feed-Forward NN in both models."
      ]
    },
    {
      "cell_type": "markdown",
      "metadata": {
        "id": "Hh5O8qS_khug"
      },
      "source": [
        "Additionally, submit your results [here](https://forms.gle/NtJJEE7Wm5ZRM3Je7) for 'Class specific accuracy of correctly predicting a hit song' and see if you got the best performance of the class! Good luck!"
      ]
    }
  ]
}